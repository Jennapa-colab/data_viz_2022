{
  "nbformat": 4,
  "nbformat_minor": 0,
  "metadata": {
    "colab": {
      "name": "Data Structure.ipynb",
      "provenance": [],
      "include_colab_link": true
    },
    "kernelspec": {
      "name": "python3",
      "display_name": "Python 3"
    },
    "language_info": {
      "name": "python"
    }
  },
  "cells": [
    {
      "cell_type": "markdown",
      "metadata": {
        "id": "view-in-github",
        "colab_type": "text"
      },
      "source": [
        "<a href=\"https://colab.research.google.com/github/Jennapa-colab/data_viz_2022/blob/main/Data_Structure.ipynb\" target=\"_parent\"><img src=\"https://colab.research.google.com/assets/colab-badge.svg\" alt=\"Open In Colab\"/></a>"
      ]
    },
    {
      "cell_type": "markdown",
      "source": [
        "# Data Struceture (โครงสร้างข้อมูล)\n",
        "การเก็บข้อมูลหลายๆตัวไว้ด้วยกันอย่างเป็นระเบียบ"
      ],
      "metadata": {
        "id": "BLBo5RA355t0"
      }
    },
    {
      "cell_type": "markdown",
      "source": [
        "## `List()`\n",
        "\n",
        "- เก็บอะไรก็ได้\n",
        "- ลำดับในการเก็บมีความสำคัญ\n",
        "- ง่ายที่สุดในการเก็บข้อมูล"
      ],
      "metadata": {
        "id": "ajVuBPQW6Ywq"
      }
    },
    {
      "cell_type": "code",
      "execution_count": null,
      "metadata": {
        "id": "08xm-RXO4YdZ"
      },
      "outputs": [],
      "source": [
        "\n",
        "list_a = [1,2,3,4,5,6] \n",
        "# [ ] square brackets"
      ]
    },
    {
      "cell_type": "code",
      "source": [
        "list_a"
      ],
      "metadata": {
        "colab": {
          "base_uri": "https://localhost:8080/"
        },
        "id": "D6duBvAF6m4R",
        "outputId": "6c91ff0a-1685-46c9-9f48-8392bd73b4dc"
      },
      "execution_count": null,
      "outputs": [
        {
          "output_type": "execute_result",
          "data": {
            "text/plain": [
              "[1, 2, 3, 4, 5, 6]"
            ]
          },
          "metadata": {},
          "execution_count": 2
        }
      ]
    },
    {
      "cell_type": "code",
      "source": [
        "list_b = ['ab',2,3.14,list_a]"
      ],
      "metadata": {
        "id": "6EVJMp0a64Pp"
      },
      "execution_count": null,
      "outputs": []
    },
    {
      "cell_type": "code",
      "source": [
        "list_b"
      ],
      "metadata": {
        "colab": {
          "base_uri": "https://localhost:8080/"
        },
        "id": "nGiExtRE7F50",
        "outputId": "db4c45d4-f617-4dde-a260-5f18302bd8b3"
      },
      "execution_count": null,
      "outputs": [
        {
          "output_type": "execute_result",
          "data": {
            "text/plain": [
              "['ab', 2, 3.14, [1, 2, 3, 4, 5, 6]]"
            ]
          },
          "metadata": {},
          "execution_count": 8
        }
      ]
    },
    {
      "cell_type": "markdown",
      "source": [
        "### indexing การชี้สมาชิกใน list ด้วยเลขลำดับของ list"
      ],
      "metadata": {
        "id": "Eylf4w8U8KnA"
      }
    },
    {
      "cell_type": "code",
      "source": [
        "list_a[3]"
      ],
      "metadata": {
        "colab": {
          "base_uri": "https://localhost:8080/"
        },
        "id": "KmNNsv8L7HGQ",
        "outputId": "d43f9e3b-e582-4598-f18e-647c559a5f18"
      },
      "execution_count": null,
      "outputs": [
        {
          "output_type": "execute_result",
          "data": {
            "text/plain": [
              "4"
            ]
          },
          "metadata": {},
          "execution_count": 5
        }
      ]
    },
    {
      "cell_type": "code",
      "source": [
        "list_b[3]"
      ],
      "metadata": {
        "colab": {
          "base_uri": "https://localhost:8080/"
        },
        "id": "Mw9QESr47-dm",
        "outputId": "1e14b162-407b-4f78-d0e3-645ac7c7a044"
      },
      "execution_count": null,
      "outputs": [
        {
          "output_type": "execute_result",
          "data": {
            "text/plain": [
              "[1, 2, 3, 4, 5, 6]"
            ]
          },
          "metadata": {},
          "execution_count": 9
        }
      ]
    },
    {
      "cell_type": "code",
      "source": [
        "list_b[3][4]"
      ],
      "metadata": {
        "colab": {
          "base_uri": "https://localhost:8080/"
        },
        "id": "4M2Ot-848VsQ",
        "outputId": "e018a6d6-b78d-4439-e221-f681bd04b019"
      },
      "execution_count": null,
      "outputs": [
        {
          "output_type": "execute_result",
          "data": {
            "text/plain": [
              "5"
            ]
          },
          "metadata": {},
          "execution_count": 10
        }
      ]
    },
    {
      "cell_type": "code",
      "source": [
        "list_a[6] \n",
        "# error เพราะไม่มีลำดับอยู่ใน list"
      ],
      "metadata": {
        "colab": {
          "base_uri": "https://localhost:8080/",
          "height": 166
        },
        "id": "4L2otInb8fkK",
        "outputId": "3d431e3d-7b5e-452c-f8b5-e308b7411fdb"
      },
      "execution_count": null,
      "outputs": [
        {
          "output_type": "error",
          "ename": "IndexError",
          "evalue": "ignored",
          "traceback": [
            "\u001b[0;31m---------------------------------------------------------------------------\u001b[0m",
            "\u001b[0;31mIndexError\u001b[0m                                Traceback (most recent call last)",
            "\u001b[0;32m<ipython-input-11-d6b61775e813>\u001b[0m in \u001b[0;36m<module>\u001b[0;34m()\u001b[0m\n\u001b[0;32m----> 1\u001b[0;31m \u001b[0mlist_a\u001b[0m\u001b[0;34m[\u001b[0m\u001b[0;36m6\u001b[0m\u001b[0;34m]\u001b[0m\u001b[0;34m\u001b[0m\u001b[0;34m\u001b[0m\u001b[0m\n\u001b[0m",
            "\u001b[0;31mIndexError\u001b[0m: list index out of range"
          ]
        }
      ]
    },
    {
      "cell_type": "code",
      "source": [
        "list_a[-1] \n",
        "#index -1 คือตัวสุดท้ายของ list ใช้เมื่อ\n",
        "#1. มีข้อมูลใน list เยอะ\n",
        "#2. เมื่อข้อมูลเปลี่ยนจะชี้้แบบเจาะจงไม่ได้"
      ],
      "metadata": {
        "colab": {
          "base_uri": "https://localhost:8080/"
        },
        "id": "oOuPpqBc8qj-",
        "outputId": "e964a243-0e09-4b05-c71f-67845364eb41"
      },
      "execution_count": null,
      "outputs": [
        {
          "output_type": "execute_result",
          "data": {
            "text/plain": [
              "6"
            ]
          },
          "metadata": {},
          "execution_count": 12
        }
      ]
    },
    {
      "cell_type": "code",
      "source": [
        "list_a[-4]"
      ],
      "metadata": {
        "colab": {
          "base_uri": "https://localhost:8080/"
        },
        "id": "A_-oeZo19IEY",
        "outputId": "c890fc35-6a20-45b3-a18e-214fc7747847"
      },
      "execution_count": null,
      "outputs": [
        {
          "output_type": "execute_result",
          "data": {
            "text/plain": [
              "3"
            ]
          },
          "metadata": {},
          "execution_count": 13
        }
      ]
    },
    {
      "cell_type": "markdown",
      "source": [
        "### การสร้าง `list()` "
      ],
      "metadata": {
        "id": "yfKv32z19dJN"
      }
    },
    {
      "cell_type": "code",
      "source": [
        "list_x1 = [] # แบบที่ 1 \n",
        "list_x2 = list() # แบบที่ 2"
      ],
      "metadata": {
        "id": "W5bB9i3u9UNM"
      },
      "execution_count": null,
      "outputs": []
    },
    {
      "cell_type": "code",
      "source": [
        "print(list_x1)\n",
        "print(list_x2)"
      ],
      "metadata": {
        "colab": {
          "base_uri": "https://localhost:8080/"
        },
        "id": "hiPylFEU-HNI",
        "outputId": "5c853809-37f0-41b3-e8ae-043d733261c4"
      },
      "execution_count": null,
      "outputs": [
        {
          "output_type": "stream",
          "name": "stdout",
          "text": [
            "[]\n",
            "[]\n"
          ]
        }
      ]
    },
    {
      "cell_type": "markdown",
      "source": [
        "### เพิ่มสมาชิกเข้าไปใน list ด้วย `append()`"
      ],
      "metadata": {
        "id": "yGlCvoti-Xii"
      }
    },
    {
      "cell_type": "code",
      "source": [
        "list_x1.append(2)"
      ],
      "metadata": {
        "id": "vFcCg5Fr-X43"
      },
      "execution_count": null,
      "outputs": []
    },
    {
      "cell_type": "code",
      "source": [
        "list_x1"
      ],
      "metadata": {
        "colab": {
          "base_uri": "https://localhost:8080/"
        },
        "id": "edyCE1fw-siM",
        "outputId": "ee77bd81-f0a6-4471-b8cf-bf7c7bd2aaf2"
      },
      "execution_count": null,
      "outputs": [
        {
          "output_type": "execute_result",
          "data": {
            "text/plain": [
              "[2]"
            ]
          },
          "metadata": {},
          "execution_count": 17
        }
      ]
    },
    {
      "cell_type": "code",
      "source": [
        "list_x1.append(4)\n",
        "print(list_x1)"
      ],
      "metadata": {
        "colab": {
          "base_uri": "https://localhost:8080/"
        },
        "id": "PozVuqS4-uHb",
        "outputId": "2d5a82d3-1d4a-4f02-8cab-f5d9f386bb83"
      },
      "execution_count": null,
      "outputs": [
        {
          "output_type": "stream",
          "name": "stdout",
          "text": [
            "[2, 4]\n"
          ]
        }
      ]
    },
    {
      "cell_type": "code",
      "source": [
        "list_x1[0]"
      ],
      "metadata": {
        "colab": {
          "base_uri": "https://localhost:8080/"
        },
        "id": "S5XOM50A_E81",
        "outputId": "7eec47e5-c86c-4754-86e4-7aba904e2b9c"
      },
      "execution_count": null,
      "outputs": [
        {
          "output_type": "execute_result",
          "data": {
            "text/plain": [
              "2"
            ]
          },
          "metadata": {},
          "execution_count": 19
        }
      ]
    },
    {
      "cell_type": "code",
      "source": [
        "list_x1[-1]"
      ],
      "metadata": {
        "colab": {
          "base_uri": "https://localhost:8080/"
        },
        "id": "jqaWb_Yk_K-f",
        "outputId": "0036149a-1b8f-47d6-db1b-13d6ac6b5a7f"
      },
      "execution_count": null,
      "outputs": [
        {
          "output_type": "execute_result",
          "data": {
            "text/plain": [
              "4"
            ]
          },
          "metadata": {},
          "execution_count": 20
        }
      ]
    },
    {
      "cell_type": "code",
      "source": [
        "list_x2"
      ],
      "metadata": {
        "colab": {
          "base_uri": "https://localhost:8080/"
        },
        "id": "HW7msCmm_Nv3",
        "outputId": "c7800de0-b8f1-45f8-f061-9cc135bab134"
      },
      "execution_count": null,
      "outputs": [
        {
          "output_type": "execute_result",
          "data": {
            "text/plain": [
              "[]"
            ]
          },
          "metadata": {},
          "execution_count": 21
        }
      ]
    },
    {
      "cell_type": "code",
      "source": [
        "list_x2.append('ha')"
      ],
      "metadata": {
        "id": "yPQ1a6Sz_yF1"
      },
      "execution_count": null,
      "outputs": []
    },
    {
      "cell_type": "code",
      "source": [
        "list_x2"
      ],
      "metadata": {
        "colab": {
          "base_uri": "https://localhost:8080/"
        },
        "id": "iL1H4Vq5_2e7",
        "outputId": "60c9405d-8278-4758-c0eb-95c91ea4dc6a"
      },
      "execution_count": null,
      "outputs": [
        {
          "output_type": "execute_result",
          "data": {
            "text/plain": [
              "['ha', 'ha']"
            ]
          },
          "metadata": {},
          "execution_count": 24
        }
      ]
    },
    {
      "cell_type": "markdown",
      "source": [
        "### ลบสมาชิกจาก list"
      ],
      "metadata": {
        "id": "_OIqDgilAZG4"
      }
    },
    {
      "cell_type": "code",
      "source": [
        "list_x1.append('ha')"
      ],
      "metadata": {
        "id": "uMZ-sn9hAdXg"
      },
      "execution_count": null,
      "outputs": []
    },
    {
      "cell_type": "code",
      "source": [
        "list_x1"
      ],
      "metadata": {
        "colab": {
          "base_uri": "https://localhost:8080/"
        },
        "id": "v5EZz5OZAjGg",
        "outputId": "cbf3cf6f-fc37-41ca-bc1c-575984822e4c"
      },
      "execution_count": null,
      "outputs": [
        {
          "output_type": "execute_result",
          "data": {
            "text/plain": [
              "[2, 4, 'ha', 'ha']"
            ]
          },
          "metadata": {},
          "execution_count": 27
        }
      ]
    },
    {
      "cell_type": "code",
      "source": [
        "list_x1.pop()"
      ],
      "metadata": {
        "colab": {
          "base_uri": "https://localhost:8080/",
          "height": 34
        },
        "id": "G4FC-pHrAkfR",
        "outputId": "1755b313-2bb6-476b-e7dd-a22ecaf98d51"
      },
      "execution_count": null,
      "outputs": [
        {
          "output_type": "execute_result",
          "data": {
            "application/vnd.google.colaboratory.intrinsic+json": {
              "type": "string"
            },
            "text/plain": [
              "'ha'"
            ]
          },
          "metadata": {},
          "execution_count": 28
        }
      ]
    },
    {
      "cell_type": "code",
      "source": [
        "list_x1"
      ],
      "metadata": {
        "colab": {
          "base_uri": "https://localhost:8080/"
        },
        "id": "9MvUEnMoAnid",
        "outputId": "b8907c19-fae9-4354-e6d3-2d2f69d13313"
      },
      "execution_count": null,
      "outputs": [
        {
          "output_type": "execute_result",
          "data": {
            "text/plain": [
              "[2, 4, 'ha']"
            ]
          },
          "metadata": {},
          "execution_count": 29
        }
      ]
    },
    {
      "cell_type": "code",
      "source": [
        "list_x1.pop()\n",
        "print(list_x1)"
      ],
      "metadata": {
        "colab": {
          "base_uri": "https://localhost:8080/"
        },
        "id": "HFe2MtD_AoH_",
        "outputId": "6a4d2394-1fb9-4bd9-d131-a51ae824cff0"
      },
      "execution_count": null,
      "outputs": [
        {
          "output_type": "stream",
          "name": "stdout",
          "text": [
            "[2, 4]\n"
          ]
        }
      ]
    },
    {
      "cell_type": "markdown",
      "source": [
        "### `len()` ตรวจสอบจำนวนสมาชิกของ list"
      ],
      "metadata": {
        "id": "7uyzjHY-B6M2"
      }
    },
    {
      "cell_type": "code",
      "source": [
        "print(list_b)\n",
        "print(len(list_b))"
      ],
      "metadata": {
        "colab": {
          "base_uri": "https://localhost:8080/"
        },
        "id": "-ieIpTmaCDIW",
        "outputId": "068b7129-08b3-41ac-fec7-de93e5a8f88d"
      },
      "execution_count": null,
      "outputs": [
        {
          "output_type": "stream",
          "name": "stdout",
          "text": [
            "['ab', 2, 3.14, [1, 2, 3, 4, 5, 6]]\n",
            "4\n"
          ]
        }
      ]
    },
    {
      "cell_type": "code",
      "source": [
        "len(list_a)"
      ],
      "metadata": {
        "colab": {
          "base_uri": "https://localhost:8080/"
        },
        "id": "f_noLUoKCJGQ",
        "outputId": "94e4d7c7-6389-4ffb-b978-90a8cc030e59"
      },
      "execution_count": null,
      "outputs": [
        {
          "output_type": "execute_result",
          "data": {
            "text/plain": [
              "6"
            ]
          },
          "metadata": {},
          "execution_count": 32
        }
      ]
    },
    {
      "cell_type": "markdown",
      "source": [
        "### String is a list of characters"
      ],
      "metadata": {
        "id": "-JNkbLNTCc8E"
      }
    },
    {
      "cell_type": "code",
      "source": [
        "st_stat = 'Department of Statistics, Faculty of Science'"
      ],
      "metadata": {
        "id": "45N0UtCuCj7X"
      },
      "execution_count": null,
      "outputs": []
    },
    {
      "cell_type": "code",
      "source": [
        "st_stat[10]"
      ],
      "metadata": {
        "colab": {
          "base_uri": "https://localhost:8080/",
          "height": 34
        },
        "id": "VO0bkkN4DHBA",
        "outputId": "93846cc0-e048-436e-cca9-fa1731641707"
      },
      "execution_count": null,
      "outputs": [
        {
          "output_type": "execute_result",
          "data": {
            "application/vnd.google.colaboratory.intrinsic+json": {
              "type": "string"
            },
            "text/plain": [
              "' '"
            ]
          },
          "metadata": {},
          "execution_count": 35
        }
      ]
    },
    {
      "cell_type": "code",
      "source": [
        "len(st_stat)"
      ],
      "metadata": {
        "colab": {
          "base_uri": "https://localhost:8080/"
        },
        "id": "T23Ck4b3DKsb",
        "outputId": "41d2619c-415c-44fb-ee6f-10ba38d37b6c"
      },
      "execution_count": null,
      "outputs": [
        {
          "output_type": "execute_result",
          "data": {
            "text/plain": [
              "44"
            ]
          },
          "metadata": {},
          "execution_count": 36
        }
      ]
    },
    {
      "cell_type": "markdown",
      "source": [
        "### List Slicing `:`\n",
        "\n"
      ],
      "metadata": {
        "id": "y4Pz2-yuDXay"
      }
    },
    {
      "cell_type": "markdown",
      "source": [
        "`list[จุดเริ่มต้น (ทึบ):จุดสุดท้าย (โปร่ง)]`\n",
        "\n",
        "`list[จุดเริ่มต้น (ทึบ):จุดสุดท้าย(โปร่ง):step]` "
      ],
      "metadata": {
        "id": "SqsX5xyOEfGV"
      }
    },
    {
      "cell_type": "markdown",
      "source": [
        "![Unknown.gif](data:image/gif;base64,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)"
      ],
      "metadata": {
        "id": "1mYcwg8KMOfE"
      }
    },
    {
      "cell_type": "code",
      "source": [
        "list_a"
      ],
      "metadata": {
        "colab": {
          "base_uri": "https://localhost:8080/"
        },
        "id": "-kmlIekWDO_7",
        "outputId": "4c4c64fe-f2ae-4107-8a7b-7e895ffdb1b3"
      },
      "execution_count": null,
      "outputs": [
        {
          "output_type": "execute_result",
          "data": {
            "text/plain": [
              "[1, 2, 3, 4, 5, 6]"
            ]
          },
          "metadata": {},
          "execution_count": 37
        }
      ]
    },
    {
      "cell_type": "code",
      "source": [
        "list_a[2]"
      ],
      "metadata": {
        "colab": {
          "base_uri": "https://localhost:8080/"
        },
        "id": "KMP2-fkpDzUP",
        "outputId": "a9fbf2f4-7a4a-4aa4-fa2e-cfcabb67b8ad"
      },
      "execution_count": null,
      "outputs": [
        {
          "output_type": "execute_result",
          "data": {
            "text/plain": [
              "3"
            ]
          },
          "metadata": {},
          "execution_count": 38
        }
      ]
    },
    {
      "cell_type": "markdown",
      "source": [
        "#### `:` colon"
      ],
      "metadata": {
        "id": "9CwYHsZdMCsl"
      }
    },
    {
      "cell_type": "code",
      "source": [
        "list_a[-3:] \n",
        "# : colon เอาตั้งแต่ตัวที่ -3 ถึงตัวสุดท้าย"
      ],
      "metadata": {
        "colab": {
          "base_uri": "https://localhost:8080/"
        },
        "id": "09vv9NGcD3jj",
        "outputId": "0aeaecde-9474-4023-901b-474c6ed5be67"
      },
      "execution_count": null,
      "outputs": [
        {
          "output_type": "execute_result",
          "data": {
            "text/plain": [
              "[4, 5, 6]"
            ]
          },
          "metadata": {},
          "execution_count": 39
        }
      ]
    },
    {
      "cell_type": "code",
      "source": [
        "list_a[:4]"
      ],
      "metadata": {
        "colab": {
          "base_uri": "https://localhost:8080/"
        },
        "id": "x4iHyA3TGWDA",
        "outputId": "f36b9aef-a1a9-4431-f0cf-33e0ab8a3f2c"
      },
      "execution_count": null,
      "outputs": [
        {
          "output_type": "execute_result",
          "data": {
            "text/plain": [
              "[1, 2, 3, 4]"
            ]
          },
          "metadata": {},
          "execution_count": 41
        }
      ]
    },
    {
      "cell_type": "code",
      "source": [
        "list_a[1:4]"
      ],
      "metadata": {
        "colab": {
          "base_uri": "https://localhost:8080/"
        },
        "id": "i9dh3Q1cFq-2",
        "outputId": "68c7ea00-bdc3-482b-a140-2a8f1d07a7ce"
      },
      "execution_count": null,
      "outputs": [
        {
          "output_type": "execute_result",
          "data": {
            "text/plain": [
              "[2, 3, 4]"
            ]
          },
          "metadata": {},
          "execution_count": 40
        }
      ]
    },
    {
      "cell_type": "code",
      "source": [
        "list_a[:]"
      ],
      "metadata": {
        "colab": {
          "base_uri": "https://localhost:8080/"
        },
        "id": "PuXM2poIFx2_",
        "outputId": "b8c8e691-ee66-45cb-fd88-1d01691e3f6e"
      },
      "execution_count": null,
      "outputs": [
        {
          "output_type": "execute_result",
          "data": {
            "text/plain": [
              "[1, 2, 3, 4, 5, 6]"
            ]
          },
          "metadata": {},
          "execution_count": 42
        }
      ]
    },
    {
      "cell_type": "markdown",
      "source": [
        "#### step"
      ],
      "metadata": {
        "id": "a3XUsk9GHALc"
      }
    },
    {
      "cell_type": "code",
      "source": [
        "list_c = [1,2,3,4,5,6,7,8,9,10,11,12,13]"
      ],
      "metadata": {
        "id": "0lAJ1OMYHHAL"
      },
      "execution_count": null,
      "outputs": []
    },
    {
      "cell_type": "code",
      "source": [
        "list_c[:10:]"
      ],
      "metadata": {
        "colab": {
          "base_uri": "https://localhost:8080/"
        },
        "id": "DnHRHfQeHQop",
        "outputId": "f3d97dc4-5464-45c2-d708-79c2f722414e"
      },
      "execution_count": null,
      "outputs": [
        {
          "output_type": "execute_result",
          "data": {
            "text/plain": [
              "[1, 2, 3, 4, 5, 6, 7, 8, 9, 10]"
            ]
          },
          "metadata": {},
          "execution_count": 45
        }
      ]
    },
    {
      "cell_type": "code",
      "source": [
        "list_c[:10:2]"
      ],
      "metadata": {
        "colab": {
          "base_uri": "https://localhost:8080/"
        },
        "id": "AQPAdgLAHVgF",
        "outputId": "beb00a14-b6fc-4128-b51e-033a9c20b042"
      },
      "execution_count": null,
      "outputs": [
        {
          "output_type": "execute_result",
          "data": {
            "text/plain": [
              "[1, 3, 5, 7, 9]"
            ]
          },
          "metadata": {},
          "execution_count": 46
        }
      ]
    },
    {
      "cell_type": "code",
      "source": [
        "list_c[::-1]"
      ],
      "metadata": {
        "colab": {
          "base_uri": "https://localhost:8080/"
        },
        "id": "3_75pSBTHZ9S",
        "outputId": "bf79dea6-d384-4011-b073-abe688cc2b2e"
      },
      "execution_count": null,
      "outputs": [
        {
          "output_type": "execute_result",
          "data": {
            "text/plain": [
              "[13, 12, 11, 10, 9, 8, 7, 6, 5, 4, 3, 2, 1]"
            ]
          },
          "metadata": {},
          "execution_count": 47
        }
      ]
    },
    {
      "cell_type": "markdown",
      "source": [
        "### `range()`"
      ],
      "metadata": {
        "id": "Gkj2NXSSHz3q"
      }
    },
    {
      "cell_type": "code",
      "source": [
        "a = list(range(21)) \n",
        "#ใช้ range ซึ่งจะมีการเรียงมาให้ (เราใส่เลขตัวเดียว)"
      ],
      "metadata": {
        "id": "m0pbP06KH9Gj"
      },
      "execution_count": null,
      "outputs": []
    },
    {
      "cell_type": "code",
      "source": [
        "a"
      ],
      "metadata": {
        "colab": {
          "base_uri": "https://localhost:8080/"
        },
        "id": "DBU9QvVEIHK3",
        "outputId": "3ffa8a6a-08c3-4aa6-b88a-6e41443c003c"
      },
      "execution_count": null,
      "outputs": [
        {
          "output_type": "execute_result",
          "data": {
            "text/plain": [
              "[0, 1, 2, 3, 4, 5, 6, 7, 8, 9, 10, 11, 12, 13, 14, 15, 16, 17, 18, 19, 20]"
            ]
          },
          "metadata": {},
          "execution_count": 49
        }
      ]
    },
    {
      "cell_type": "code",
      "source": [
        "list(range(1,21)) \n",
        "# ใช้เลข 2 ตัวในการกำหนด"
      ],
      "metadata": {
        "colab": {
          "base_uri": "https://localhost:8080/"
        },
        "id": "fF5284VZIHku",
        "outputId": "32d1d9d1-2d9c-43bb-c818-ded7c2fe21bf"
      },
      "execution_count": null,
      "outputs": [
        {
          "output_type": "execute_result",
          "data": {
            "text/plain": [
              "[1, 2, 3, 4, 5, 6, 7, 8, 9, 10, 11, 12, 13, 14, 15, 16, 17, 18, 19, 20]"
            ]
          },
          "metadata": {},
          "execution_count": 50
        }
      ]
    },
    {
      "cell_type": "markdown",
      "source": [
        "HW2  คำนวณเวลาเป็นวินาทีของเวลาต่อไปนี้โดยใช้คำสั่ง split() ช่วย (print ออกมาให้สวยงาม)\n",
        "\n",
        "- 12:30:15\n",
        "- 13:41:07\n",
        "- 09:11:50\n",
        "- 21:30:15\n",
        "- 03:10:15"
      ],
      "metadata": {
        "id": "8ytOnbHpJLmT"
      }
    },
    {
      "cell_type": "code",
      "source": [
        "h1 = '12:30:15'\n",
        "h1_sp = h1.split(':')\n",
        "ans1 = int(h1_sp[0])*3600 + int(h1_sp[1])*60 + int(h1_sp[2])\n",
        "print(f'เวลา {h1} แปลงเป็นจำนวนวินาทีได้เท่ากับ {ans1} วินาที')"
      ],
      "metadata": {
        "colab": {
          "base_uri": "https://localhost:8080/"
        },
        "id": "0mV17n64JtGH",
        "outputId": "25263133-c23a-4a61-a984-b6650c729d58"
      },
      "execution_count": null,
      "outputs": [
        {
          "output_type": "stream",
          "name": "stdout",
          "text": [
            "เวลา 12:30:15 แปลงเป็นจำนวนวินาทีได้เท่ากับ 45015 วินาที\n"
          ]
        }
      ]
    },
    {
      "cell_type": "code",
      "source": [
        "h2 = '13:41:07'\n",
        "h2_sp = h2.split(':')\n",
        "ans2 = int(h2_sp[0])*3600 + int(h2_sp[1])*60 + int(h2_sp[2])\n",
        "print(f'เวลา {h2} แปลงเป็นจำนวนวินาทีได้เท่ากับ {ans2} วินาที')"
      ],
      "metadata": {
        "colab": {
          "base_uri": "https://localhost:8080/"
        },
        "id": "gKTroceXKrHC",
        "outputId": "a0564a1b-f727-45ee-cf99-d60811491705"
      },
      "execution_count": null,
      "outputs": [
        {
          "output_type": "stream",
          "name": "stdout",
          "text": [
            "เวลา 13:41:07 แปลงเป็นจำนวนวินาทีได้เท่ากับ 49267 วินาที\n"
          ]
        }
      ]
    },
    {
      "cell_type": "code",
      "source": [
        "h3 = '09:11:50'\n",
        "h3_sp = h3.split(':')\n",
        "ans3 = int(h3_sp[0])*3600 + int(h3_sp[1])*60 + int(h3_sp[2])\n",
        "print(f'เวลา {h3} แปลงเป็นจำนวนวินาทีได้เท่ากับ {ans3} วินาที')"
      ],
      "metadata": {
        "colab": {
          "base_uri": "https://localhost:8080/"
        },
        "id": "IqQLDPnzK6-d",
        "outputId": "5ed656c3-84d5-48a9-9c42-8dd8c303d220"
      },
      "execution_count": null,
      "outputs": [
        {
          "output_type": "stream",
          "name": "stdout",
          "text": [
            "เวลา 09:11:50 แปลงเป็นจำนวนวินาทีได้เท่ากับ 33110 วินาที\n"
          ]
        }
      ]
    },
    {
      "cell_type": "code",
      "source": [
        "h4 = '21:30:15'\n",
        "h4_sp = h4.split(':')\n",
        "ans4 = int(h4_sp[0])*3600 + int(h4_sp[1])*60 + int(h4_sp[2])\n",
        "print(f'เวลา {h4} แปลงเป็นจำนวนวินาทีได้เท่ากับ {ans4} วินาที')"
      ],
      "metadata": {
        "colab": {
          "base_uri": "https://localhost:8080/"
        },
        "id": "dHiJXyKzLMcp",
        "outputId": "4644a9cd-47d9-4179-d0a8-86d4a0e3fbb7"
      },
      "execution_count": null,
      "outputs": [
        {
          "output_type": "stream",
          "name": "stdout",
          "text": [
            "เวลา 21:30:15 แปลงเป็นจำนวนวินาทีได้เท่ากับ 77415 วินาที\n"
          ]
        }
      ]
    },
    {
      "cell_type": "code",
      "source": [
        "h5 = '03:10:15'\n",
        "h5_sp = h5.split(':')\n",
        "ans5 = int(h5_sp[0])*3600 + int(h5_sp[1])*60 + int(h5_sp[2])\n",
        "print(f'เวลา {h5} แปลงเป็นจำนวนวินาทีได้เท่ากับ {ans5} วินาที')"
      ],
      "metadata": {
        "colab": {
          "base_uri": "https://localhost:8080/"
        },
        "id": "ZDtLZ-_DLXkD",
        "outputId": "995b9f2e-6734-44dd-f8e7-f9174714aad7"
      },
      "execution_count": null,
      "outputs": [
        {
          "output_type": "stream",
          "name": "stdout",
          "text": [
            "เวลา 03:10:15 แปลงเป็นจำนวนวินาทีได้เท่ากับ 11415 วินาที\n"
          ]
        }
      ]
    },
    {
      "cell_type": "markdown",
      "source": [
        "##ตัวอย่างของอาจารย์"
      ],
      "metadata": {
        "id": "WwbSQZ_3LrHD"
      }
    },
    {
      "cell_type": "code",
      "source": [
        "ex = '12:30:15'\n",
        "print(ex)"
      ],
      "metadata": {
        "colab": {
          "base_uri": "https://localhost:8080/"
        },
        "id": "64uNK0g3LrVU",
        "outputId": "10fd4109-8904-4d28-f961-231be8c4ebd2"
      },
      "execution_count": 2,
      "outputs": [
        {
          "output_type": "stream",
          "name": "stdout",
          "text": [
            "12:30:15\n"
          ]
        }
      ]
    },
    {
      "cell_type": "code",
      "source": [
        "sp_ex = ex.split(':')\n",
        "print(sp_ex)"
      ],
      "metadata": {
        "colab": {
          "base_uri": "https://localhost:8080/"
        },
        "id": "OZo7BgjgLra_",
        "outputId": "23b13716-43c3-4434-b644-8212c72d7e07"
      },
      "execution_count": 3,
      "outputs": [
        {
          "output_type": "stream",
          "name": "stdout",
          "text": [
            "['12', '30', '15']\n"
          ]
        }
      ]
    },
    {
      "cell_type": "markdown",
      "source": [
        "##Numpy Array"
      ],
      "metadata": {
        "id": "4WrmgtAGOuF3"
      }
    },
    {
      "cell_type": "markdown",
      "source": [
        ""
      ],
      "metadata": {
        "id": "VCz6ZaBtVySE"
      }
    },
    {
      "cell_type": "markdown",
      "source": [
        "-คล้าย list()\n",
        "\n",
        "-index เป็นอะไรก็ได้ ไม่จำเป็นต้องเป็นตัวเลขลำดับ\n",
        "\n",
        "-ลำดับไม่มีความสำคัญ"
      ],
      "metadata": {
        "id": "TU_rUU98PPrq"
      }
    },
    {
      "cell_type": "code",
      "source": [
        "dict_a = {1:'Happy','N':'New','2022':'Year'} \n",
        "#{} curry brackets"
      ],
      "metadata": {
        "id": "ia6TMYoePu3r"
      },
      "execution_count": 9,
      "outputs": []
    },
    {
      "cell_type": "code",
      "source": [
        "dict_a[1]"
      ],
      "metadata": {
        "colab": {
          "base_uri": "https://localhost:8080/",
          "height": 38
        },
        "id": "T4xklGxcPDF_",
        "outputId": "3de21fc3-58d8-495f-cc45-28749a9134ce"
      },
      "execution_count": 11,
      "outputs": [
        {
          "output_type": "execute_result",
          "data": {
            "application/vnd.google.colaboratory.intrinsic+json": {
              "type": "string"
            },
            "text/plain": [
              "'Happy'"
            ]
          },
          "metadata": {},
          "execution_count": 11
        }
      ]
    },
    {
      "cell_type": "code",
      "source": [
        "dict_a['N']"
      ],
      "metadata": {
        "colab": {
          "base_uri": "https://localhost:8080/",
          "height": 38
        },
        "id": "JbPLLkrZPDQF",
        "outputId": "7c17536d-727b-4bf3-ac3b-054d2607e08b"
      },
      "execution_count": 12,
      "outputs": [
        {
          "output_type": "execute_result",
          "data": {
            "application/vnd.google.colaboratory.intrinsic+json": {
              "type": "string"
            },
            "text/plain": [
              "'New'"
            ]
          },
          "metadata": {},
          "execution_count": 12
        }
      ]
    },
    {
      "cell_type": "code",
      "source": [
        "dict_a.keys()"
      ],
      "metadata": {
        "colab": {
          "base_uri": "https://localhost:8080/"
        },
        "id": "scvw44ahPDYi",
        "outputId": "d87b5ff9-302c-47e3-a73b-c046904c9a3e"
      },
      "execution_count": 14,
      "outputs": [
        {
          "output_type": "execute_result",
          "data": {
            "text/plain": [
              "dict_keys([1, 'N', '2022'])"
            ]
          },
          "metadata": {},
          "execution_count": 14
        }
      ]
    },
    {
      "cell_type": "code",
      "source": [
        "dict_a.values()"
      ],
      "metadata": {
        "colab": {
          "base_uri": "https://localhost:8080/"
        },
        "id": "WHdQNcgVPDe6",
        "outputId": "abdedc83-7e0b-4479-f7fb-63fd8b0bff08"
      },
      "execution_count": 10,
      "outputs": [
        {
          "output_type": "execute_result",
          "data": {
            "text/plain": [
              "dict_values(['Happy', 'New', 'Year'])"
            ]
          },
          "metadata": {},
          "execution_count": 10
        }
      ]
    },
    {
      "cell_type": "markdown",
      "source": [
        "###การเพิ่มสมาชิกลงไปใน Dictionaty"
      ],
      "metadata": {
        "id": "jmeuSjxdRGPP"
      }
    },
    {
      "cell_type": "code",
      "source": [
        "dict_a[7] = 3.14"
      ],
      "metadata": {
        "id": "ij6-zDQkPDt9"
      },
      "execution_count": 15,
      "outputs": []
    },
    {
      "cell_type": "code",
      "source": [
        "dict_a"
      ],
      "metadata": {
        "colab": {
          "base_uri": "https://localhost:8080/"
        },
        "id": "JL_ma9wZPDzz",
        "outputId": "96625436-800b-4097-df34-403b5cee5c49"
      },
      "execution_count": 16,
      "outputs": [
        {
          "output_type": "execute_result",
          "data": {
            "text/plain": [
              "{1: 'Happy', '2022': 'Year', 7: 3.14, 'N': 'New'}"
            ]
          },
          "metadata": {},
          "execution_count": 16
        }
      ]
    },
    {
      "cell_type": "code",
      "source": [
        "dict_a['N'] = 'NNNNEEEEWWWW'"
      ],
      "metadata": {
        "id": "oow5Dt4cPCWw"
      },
      "execution_count": 17,
      "outputs": []
    },
    {
      "cell_type": "code",
      "source": [
        "dict_a"
      ],
      "metadata": {
        "colab": {
          "base_uri": "https://localhost:8080/"
        },
        "id": "8WU-9-78PCe3",
        "outputId": "1d26291c-b77d-455e-f049-4cdf27e95af6"
      },
      "execution_count": 18,
      "outputs": [
        {
          "output_type": "execute_result",
          "data": {
            "text/plain": [
              "{1: 'Happy', '2022': 'Year', 7: 3.14, 'N': 'NNNNEEEEWWWW'}"
            ]
          },
          "metadata": {},
          "execution_count": 18
        }
      ]
    },
    {
      "cell_type": "markdown",
      "source": [
        "###Shape\n",
        "**อย่าลืมใส่รูป"
      ],
      "metadata": {
        "id": "EZnY6VW-VyBz"
      }
    },
    {
      "cell_type": "markdown",
      "source": [
        "##1D array"
      ],
      "metadata": {
        "id": "smwqPQ7vYRcA"
      }
    },
    {
      "cell_type": "code",
      "source": [
        "import numpy"
      ],
      "metadata": {
        "id": "kylZL9xnPAth"
      },
      "execution_count": 20,
      "outputs": []
    },
    {
      "cell_type": "code",
      "source": [
        "list_A = [1,2,3,4,5]"
      ],
      "metadata": {
        "id": "FGxRJEidPCmc"
      },
      "execution_count": 21,
      "outputs": []
    },
    {
      "cell_type": "code",
      "source": [
        "arr_a = numpy.array(list_A)"
      ],
      "metadata": {
        "id": "MqZ84H_WPCr4"
      },
      "execution_count": 22,
      "outputs": []
    },
    {
      "cell_type": "code",
      "source": [
        "arr_a"
      ],
      "metadata": {
        "id": "Cmx9_CIVPA-R"
      },
      "execution_count": null,
      "outputs": []
    },
    {
      "cell_type": "code",
      "source": [
        "list_A"
      ],
      "metadata": {
        "colab": {
          "base_uri": "https://localhost:8080/"
        },
        "id": "m8A3rUdWPBDR",
        "outputId": "56ca7f6f-e802-41e8-ba41-ff53da5beee9"
      },
      "execution_count": 23,
      "outputs": [
        {
          "output_type": "execute_result",
          "data": {
            "text/plain": [
              "[1, 2, 3, 4, 5]"
            ]
          },
          "metadata": {},
          "execution_count": 23
        }
      ]
    },
    {
      "cell_type": "code",
      "source": [
        "arr_a[0]"
      ],
      "metadata": {
        "colab": {
          "base_uri": "https://localhost:8080/"
        },
        "id": "KoYVJhhvLrhX",
        "outputId": "49109d40-1277-4c3a-a444-38862d9d9d18"
      },
      "execution_count": 24,
      "outputs": [
        {
          "output_type": "execute_result",
          "data": {
            "text/plain": [
              "1"
            ]
          },
          "metadata": {},
          "execution_count": 24
        }
      ]
    },
    {
      "cell_type": "code",
      "source": [
        "list_A[0]"
      ],
      "metadata": {
        "colab": {
          "base_uri": "https://localhost:8080/"
        },
        "id": "9eAm6p7mLsQu",
        "outputId": "070c31e3-c55c-476e-dbd9-dbf8dce34c40"
      },
      "execution_count": 26,
      "outputs": [
        {
          "output_type": "execute_result",
          "data": {
            "text/plain": [
              "1"
            ]
          },
          "metadata": {},
          "execution_count": 26
        }
      ]
    },
    {
      "cell_type": "code",
      "source": [
        "5*arr_a\n",
        "#Matrix (Scalar Mutiplication)"
      ],
      "metadata": {
        "colab": {
          "base_uri": "https://localhost:8080/"
        },
        "id": "_mz-eFSBLsT-",
        "outputId": "3547d41a-440d-4195-c224-205f5b9da8f3"
      },
      "execution_count": 27,
      "outputs": [
        {
          "output_type": "execute_result",
          "data": {
            "text/plain": [
              "array([ 5, 10, 15, 20, 25])"
            ]
          },
          "metadata": {},
          "execution_count": 27
        }
      ]
    },
    {
      "cell_type": "code",
      "source": [
        "5*list_A"
      ],
      "metadata": {
        "colab": {
          "base_uri": "https://localhost:8080/"
        },
        "id": "pt08rZ4bLt36",
        "outputId": "a17b44d3-8340-411e-808a-d3328932c6ab"
      },
      "execution_count": 28,
      "outputs": [
        {
          "output_type": "execute_result",
          "data": {
            "text/plain": [
              "[1, 2, 3, 4, 5, 1, 2, 3, 4, 5, 1, 2, 3, 4, 5, 1, 2, 3, 4, 5, 1, 2, 3, 4, 5]"
            ]
          },
          "metadata": {},
          "execution_count": 28
        }
      ]
    },
    {
      "cell_type": "code",
      "source": [
        "arr_b = numpy.array([10,20,30,40,50])"
      ],
      "metadata": {
        "id": "N_reyTKBLuDb"
      },
      "execution_count": 30,
      "outputs": []
    },
    {
      "cell_type": "code",
      "source": [
        "print(arr_a)"
      ],
      "metadata": {
        "colab": {
          "base_uri": "https://localhost:8080/"
        },
        "id": "z2gzn_4TLuNE",
        "outputId": "da09b616-557e-4d7b-8a6a-7254655b6f18"
      },
      "execution_count": 33,
      "outputs": [
        {
          "output_type": "stream",
          "name": "stdout",
          "text": [
            "[1 2 3 4 5]\n"
          ]
        }
      ]
    },
    {
      "cell_type": "code",
      "source": [
        "arr_a+arr_b"
      ],
      "metadata": {
        "colab": {
          "base_uri": "https://localhost:8080/"
        },
        "id": "Kw7d7U20LuTX",
        "outputId": "16ea5c9c-2215-43f8-ad14-e64461355ead"
      },
      "execution_count": 34,
      "outputs": [
        {
          "output_type": "execute_result",
          "data": {
            "text/plain": [
              "array([11, 22, 33, 44, 55])"
            ]
          },
          "metadata": {},
          "execution_count": 34
        }
      ]
    },
    {
      "cell_type": "markdown",
      "source": [
        "2D array"
      ],
      "metadata": {
        "id": "kE6ND_dGYIYA"
      }
    },
    {
      "cell_type": "code",
      "source": [
        "import numpy as np"
      ],
      "metadata": {
        "id": "tEdC3pqFLvfn"
      },
      "execution_count": 35,
      "outputs": []
    },
    {
      "cell_type": "code",
      "source": [
        "arr2_z = np.array([[1,2,3],[4,5,6]])"
      ],
      "metadata": {
        "id": "YkURhRWFLvV5"
      },
      "execution_count": 36,
      "outputs": []
    },
    {
      "cell_type": "code",
      "source": [
        "arr2_z.shape"
      ],
      "metadata": {
        "colab": {
          "base_uri": "https://localhost:8080/"
        },
        "id": "YItttGqwLvoC",
        "outputId": "7df3dce4-07da-4a11-9419-86864747d5f8"
      },
      "execution_count": 38,
      "outputs": [
        {
          "output_type": "execute_result",
          "data": {
            "text/plain": [
              "(2, 3)"
            ]
          },
          "metadata": {},
          "execution_count": 38
        }
      ]
    },
    {
      "cell_type": "markdown",
      "source": [
        "##np.zero"
      ],
      "metadata": {
        "id": "olrHOeT5Za7h"
      }
    },
    {
      "cell_type": "code",
      "source": [
        "arr2_3_5_0 = np.zeros((3,5))\n",
        "#ต้องทราบขนาดก่อน"
      ],
      "metadata": {
        "id": "1OGTfrQyLvwB"
      },
      "execution_count": 39,
      "outputs": []
    },
    {
      "cell_type": "code",
      "source": [
        "arr2_3_5_0"
      ],
      "metadata": {
        "colab": {
          "base_uri": "https://localhost:8080/"
        },
        "id": "ZZ1IZgrmLv3K",
        "outputId": "81548cec-ee90-48b9-c69f-11d8b822f79e"
      },
      "execution_count": 44,
      "outputs": [
        {
          "output_type": "execute_result",
          "data": {
            "text/plain": [
              "array([[0., 0., 0., 0., 0.],\n",
              "       [0., 0., 0., 0., 0.],\n",
              "       [0., 0., 0., 0., 0.]])"
            ]
          },
          "metadata": {},
          "execution_count": 44
        }
      ]
    },
    {
      "cell_type": "code",
      "source": [
        "arr2_3_5_0 = [1,2] "
      ],
      "metadata": {
        "id": "iEPBxCpULsud"
      },
      "execution_count": 49,
      "outputs": []
    },
    {
      "cell_type": "code",
      "source": [
        "print(list_A )"
      ],
      "metadata": {
        "colab": {
          "base_uri": "https://localhost:8080/"
        },
        "id": "qGRw3AvELswn",
        "outputId": "df7a9f4f-c72c-4437-b8cf-73c701b25ed4"
      },
      "execution_count": 50,
      "outputs": [
        {
          "output_type": "stream",
          "name": "stdout",
          "text": [
            "[1, 2, 3, 4, 5]\n"
          ]
        }
      ]
    },
    {
      "cell_type": "code",
      "source": [
        ""
      ],
      "metadata": {
        "id": "cwmEUMvaLtkR"
      },
      "execution_count": null,
      "outputs": []
    },
    {
      "cell_type": "markdown",
      "source": [
        "##Pandas Dataframe(แยกเป็น Notebook เฉพาะ)"
      ],
      "metadata": {
        "id": "PEy8K2skOyOy"
      }
    }
  ]
}